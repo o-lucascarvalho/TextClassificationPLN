{
  "nbformat": 4,
  "nbformat_minor": 0,
  "metadata": {
    "colab": {
      "name": "Projeto Final PLN - Lucas de Almeida Carvalho.ipynb",
      "provenance": [],
      "collapsed_sections": []
    },
    "kernelspec": {
      "name": "python3",
      "display_name": "Python 3"
    }
  },
  "cells": [
    {
      "cell_type": "markdown",
      "metadata": {
        "id": "LHuFSj_dQ25o"
      },
      "source": [
        "# Projeto Final PLN.\n",
        "# Aluno: Lucas de Almeida Carvalho\n",
        "# Professor: Emerson Cabrera Paraiso"
      ]
    },
    {
      "cell_type": "code",
      "metadata": {
        "colab": {
          "base_uri": "https://localhost:8080/"
        },
        "id": "bLW0dDXuQyrs",
        "outputId": "016b0f3b-81d6-436f-bf87-5c36ade22bec"
      },
      "source": [
        "#Importação de bibliotecas utilizadas no projeto.\n",
        "from sklearn import svm\n",
        "from sklearn.model_selection import cross_val_score, cross_val_predict\n",
        "from sklearn.metrics import confusion_matrix\n",
        "from sklearn.utils.multiclass import unique_labels\n",
        "from sklearn.metrics import classification_report\n",
        "from operator import itemgetter, attrgetter\n",
        "import numpy as np\n",
        "import nltk\n",
        "import math\n",
        "nltk.download(['stopwords','rslp','punkt'])\n",
        "import pandas as pd\n",
        "import seaborn as sns\n",
        "from sklearn.model_selection import GridSearchCV\n",
        "from tabulate import tabulate\n",
        "from sklearn.neighbors import KNeighborsClassifier\n",
        "from sklearn.tree import DecisionTreeClassifier\n",
        "import warnings\n",
        "warnings.filterwarnings(\"ignore\")"
      ],
      "execution_count": null,
      "outputs": [
        {
          "output_type": "stream",
          "name": "stderr",
          "text": [
            "[nltk_data] Downloading package stopwords to /root/nltk_data...\n",
            "[nltk_data]   Unzipping corpora/stopwords.zip.\n",
            "[nltk_data] Downloading package rslp to /root/nltk_data...\n",
            "[nltk_data]   Unzipping stemmers/rslp.zip.\n",
            "[nltk_data] Downloading package punkt to /root/nltk_data...\n",
            "[nltk_data]   Unzipping tokenizers/punkt.zip.\n"
          ]
        }
      ]
    },
    {
      "cell_type": "code",
      "source": [
        "#De/Para das classes conforme especificação do projeto e criação do novo corpus exportando-o para CSV.\n",
        "header = ['Sentimento','Texto']\n",
        "df = pd.read_csv('2000_textos.csv', delimiter=';;',names=header, index_col=False)\n",
        "df.Sentimento = df.Sentimento.replace('alegria','positivo')\n",
        "df.Sentimento = df.Sentimento.replace(['raiva','medo','desgosto','tristeza'],'negativo',)\n",
        "df = df[(df.Sentimento != \"surpresa\")]\n",
        "df.Sentimento.unique()\n",
        "df.to_csv('textos_tratados.csv',encoding='utf-8-sig', index=False, header=False)"
      ],
      "metadata": {
        "id": "xht2GtI5JcKy"
      },
      "execution_count": null,
      "outputs": []
    },
    {
      "cell_type": "code",
      "metadata": {
        "id": "rgkN13hiRBCo"
      },
      "source": [
        "#Definição do classificador SVM\n",
        "def SVM(features, labels, folds):\n",
        "  print('SVM (Linear): ')\n",
        "  parameters = [\n",
        "      {'C':[10,50,100],'kernel':['linear']},\n",
        "      {'C':[10,50,100],'kernel':['poly']},\n",
        "  ]\n",
        "  clf = svm.SVC(probability=True)\n",
        "  gs = GridSearchCV(clf, parameters, scoring='accuracy', cv=folds, n_jobs=5)\n",
        "  gs.fit(features,labels)\n",
        "  clf = gs.best_estimator_\n",
        "  table = gs.cv_results_\n",
        "  print(tabulate(table, headers='keys', tablefmt='psql'))\n",
        "\n",
        "  print('Best Parameters found')\n",
        "  print(gs.best_params_)\n",
        "  \n",
        "  predict = cross_val_predict(clf, features, labels, cv=folds)\n",
        "  cm = confusion_matrix(labels, predict)\n",
        "  print(cm)\n",
        "  print(classification_report(labels, predict, target_names=np.unique(labels)))\n",
        "  print('----------------------------------------------')\n",
        "  return predict, cm"
      ],
      "execution_count": null,
      "outputs": []
    },
    {
      "cell_type": "code",
      "source": [
        "#Definição do classificador SVM\n",
        "def SVMwithout_GS(features, labels, folds):\n",
        "  print('SVM (Linear): ')\n",
        "\n",
        "  clf = svm.SVC(probability=True, C=50, kernel='linear')\n",
        "  \n",
        "  predict = cross_val_predict(clf, features, labels, cv=folds)\n",
        "  cm = confusion_matrix(labels, predict)\n",
        "  print(cm)\n",
        "  print(classification_report(labels, predict, target_names=np.unique(labels)))\n",
        "  print('----------------------------------------------')\n",
        "  return predict, cm"
      ],
      "metadata": {
        "id": "gQxEbTdIs65j"
      },
      "execution_count": null,
      "outputs": []
    },
    {
      "cell_type": "code",
      "source": [
        "#Definição do classificador KNN\n",
        "def KNN(features, labels, folds):\n",
        "  print('KNN: ')\n",
        "  parameters = [\n",
        "      {'n_neighbors':[3,5,7],'weights':['uniform','distance']},\n",
        "      {'algorithm':['ball_tree','kd_tree']},\n",
        "  ]\n",
        "  clf = KNeighborsClassifier()\n",
        "  gs = GridSearchCV(clf, parameters, scoring='accuracy', cv=folds, n_jobs=5)\n",
        "  gs.fit(features,labels)\n",
        "  clf = gs.best_estimator_\n",
        "  table = gs.cv_results_\n",
        "  print(tabulate(table, headers='keys', tablefmt='psql'))\n",
        "\n",
        "  print('Best Parameters found')\n",
        "  print(gs.best_params_)\n",
        "  \n",
        "  predict = cross_val_predict(clf, features, labels, cv=folds)\n",
        "  cm = confusion_matrix(labels, predict)\n",
        "  print(cm)\n",
        "  print(classification_report(labels, predict, target_names=np.unique(labels)))\n",
        "  print('----------------------------------------------')\n",
        "  return predict, cm"
      ],
      "metadata": {
        "id": "04VtRbs-3HqX"
      },
      "execution_count": null,
      "outputs": []
    },
    {
      "cell_type": "code",
      "source": [
        "#Definição do classificador Decision Tree\n",
        "def Tree(features, labels, folds):\n",
        "  print('Decision Tree Classifier: ')\n",
        "  parameters = [\n",
        "      {'criterion':['gini', 'entropy'],\n",
        "       'max_depth':[3,5],\n",
        "       'min_samples_split':[5,10],\n",
        "       'min_samples_leaf':[5,10]}\n",
        "  ]\n",
        "  clf = DecisionTreeClassifier()\n",
        "  gs = GridSearchCV(clf, parameters, scoring='accuracy', cv=folds, n_jobs=5)\n",
        "  gs.fit(features,labels)\n",
        "  clf = gs.best_estimator_\n",
        "  table = gs.cv_results_\n",
        "  print(tabulate(table, headers='keys', tablefmt='psql'))\n",
        "\n",
        "  print('Best Parameters found')\n",
        "  print(gs.best_params_)\n",
        "  \n",
        "  predict = cross_val_predict(clf, features, labels, cv=folds)\n",
        "  cm = confusion_matrix(labels, predict)\n",
        "  print(cm)\n",
        "  print(classification_report(labels, predict, target_names=np.unique(labels)))\n",
        "  print('----------------------------------------------')\n",
        "  return predict, cm"
      ],
      "metadata": {
        "id": "DeeDFOOuBZKn"
      },
      "execution_count": null,
      "outputs": []
    },
    {
      "cell_type": "code",
      "source": [
        "#Definição do classificador Decision Tree\n",
        "def Tree_without_GS(features, labels, folds):\n",
        "  print('Decision Tree Classifier: ')\n",
        " \n",
        "  clf = DecisionTreeClassifier(criterion='gini',max_depth=5,min_samples_leaf=5,min_samples_split=5)\n",
        "  \n",
        "  predict = cross_val_predict(clf, features, labels, cv=folds)\n",
        "  cm = confusion_matrix(labels, predict)\n",
        "  print(cm)\n",
        "  print(classification_report(labels, predict, target_names=np.unique(labels)))\n",
        "  print('----------------------------------------------')\n",
        "  return predict, cm"
      ],
      "metadata": {
        "id": "S73Kk373rQdJ"
      },
      "execution_count": null,
      "outputs": []
    },
    {
      "cell_type": "code",
      "metadata": {
        "id": "88tlEtIZREF5"
      },
      "source": [
        "#Pré Processamento dos dados\n",
        "def loadFile(filename, stopwords, steemer):\n",
        "  f = open(filename, \"r\", encoding=\"utf-8-sig\")\n",
        "  data = []\n",
        "  while True:\n",
        "      #lê cada linha do arquivo\n",
        "      chunk = f.readline()\n",
        "      #Verificação de final do arquivo \n",
        "      if chunk == '': \n",
        "          break\n",
        "      #Divisão em Classe = text[0] Texto = text[1] \n",
        "      text = chunk.split(',')\n",
        "      #Tokenização dos texto\n",
        "      tokens = nltk.word_tokenize(text[1]) \n",
        "      tokensLimpo = []\n",
        "      #Remoção dos tokens que estão na lista de Stopwords e\n",
        "      #Aplicação de steemer da palavra.\n",
        "      for palavra in tokens:\n",
        "          if (palavra not in stopwords):\n",
        "              palavra = palavra.lower()\n",
        "              tokensLimpo.append(stemmer.stem(palavra))\n",
        "      instance = (text[0], tokensLimpo)\n",
        "      data.append(instance)\n",
        "  \n",
        "  #-------------- BagofWords -------------------\n",
        "  #Listagem distintas das palavras do corpus\n",
        "  allwords = []\n",
        "  for text in data:\n",
        "      for word in text[1]:\n",
        "          if word not in allwords:\n",
        "              allwords.append(word)  \n",
        "  allwords.sort()\n",
        "\n",
        "  #Geração da matriz de ocorrências de cada palavra\n",
        "  qtdPalavras = len(allwords)\n",
        "  features = []\n",
        "  labels = []\n",
        "  for texto in data:\n",
        "      ocorrencias = []\n",
        "      labels.append(texto[0])\n",
        "      for palavra in allwords:\n",
        "          if palavra in texto[1]:\n",
        "              ocorrencias.append(texto[1].count(palavra))\n",
        "          else:\n",
        "              ocorrencias.append(0)\n",
        "      features.append(ocorrencias)\n",
        "\n",
        "  return labels, features, allwords"
      ],
      "execution_count": null,
      "outputs": []
    },
    {
      "cell_type": "code",
      "source": [
        "#Lista StopWords\n",
        "stopwords = nltk.corpus.stopwords.words('portuguese') #Stopwords da lingua portuguesa\n",
        "stopwords+= (',','.','(',')','\"',\"'\",'´','`','!','$','%','&','...','-',':',';','?','``','\\'\\'') #acrescenta simbolos\n",
        "stopwords+= ('a','e','i','o','u','A','E','I','O','U') #acrescenta vogais\n",
        "stemmer = nltk.stem.RSLPStemmer()\n",
        "\n",
        "InputFile = \"textos_tratados.csv\"\n",
        "\n",
        "labels3, features3, allwords3 = loadFile(InputFile, stopwords, stemmer)"
      ],
      "metadata": {
        "id": "kKrmrqXnCkwZ"
      },
      "execution_count": null,
      "outputs": []
    },
    {
      "cell_type": "code",
      "metadata": {
        "id": "srscuRrbF89V",
        "colab": {
          "base_uri": "https://localhost:8080/"
        },
        "outputId": "2622018e-680e-477d-92b9-dff9d2cf94aa"
      },
      "source": [
        "#Fit de modelo usando SVM Pré Balanceamento dos dados\n",
        "print('----------------------------------------------') \n",
        "print(\"Instâncias 3 classes: \"+str(len(labels3)))\n",
        "print(\"Features 3 classes: \"+str(len(features3[0])))\n",
        "\n",
        "# Tempo total aprox: 1h15Min\n",
        "predict3, cm3 = SVM(features3, labels3, 10)"
      ],
      "execution_count": null,
      "outputs": [
        {
          "output_type": "stream",
          "name": "stdout",
          "text": [
            "----------------------------------------------\n",
            "Instâncias 3 classes: 1748\n",
            "Features 3 classes: 4783\n",
            "SVM (Linear): \n",
            "+-----------------+----------------+-------------------+------------------+-----------+----------------+--------------------------------+---------------------+---------------------+---------------------+---------------------+---------------------+---------------------+---------------------+---------------------+---------------------+---------------------+-------------------+------------------+-------------------+\n",
            "|   mean_fit_time |   std_fit_time |   mean_score_time |   std_score_time |   param_C | param_kernel   | params                         |   split0_test_score |   split1_test_score |   split2_test_score |   split3_test_score |   split4_test_score |   split5_test_score |   split6_test_score |   split7_test_score |   split8_test_score |   split9_test_score |   mean_test_score |   std_test_score |   rank_test_score |\n",
            "|-----------------+----------------+-------------------+------------------+-----------+----------------+--------------------------------+---------------------+---------------------+---------------------+---------------------+---------------------+---------------------+---------------------+---------------------+---------------------+---------------------+-------------------+------------------+-------------------|\n",
            "|         102.213 |       13.2898  |           1.94587 |         0.184396 |        10 | linear         | {'C': 10, 'kernel': 'linear'}  |            0.731429 |            0.674286 |            0.657143 |            0.72     |            0.708571 |            0.725714 |            0.714286 |            0.702857 |            0.689655 |            0.672414 |          0.699635 |       0.0238733  |                 3 |\n",
            "|         119.66  |        5.18607 |           2.25204 |         0.274125 |        50 | linear         | {'C': 50, 'kernel': 'linear'}  |            0.731429 |            0.674286 |            0.657143 |            0.72     |            0.714286 |            0.725714 |            0.714286 |            0.702857 |            0.689655 |            0.672414 |          0.700207 |       0.0241472  |                 1 |\n",
            "|         118.903 |        5.81166 |           2.21708 |         0.249663 |       100 | linear         | {'C': 100, 'kernel': 'linear'} |            0.731429 |            0.674286 |            0.657143 |            0.72     |            0.714286 |            0.725714 |            0.714286 |            0.702857 |            0.689655 |            0.672414 |          0.700207 |       0.0241472  |                 1 |\n",
            "|         228.586 |       17.1318  |           4.01253 |         0.246789 |        10 | poly           | {'C': 10, 'kernel': 'poly'}    |            0.605714 |            0.588571 |            0.582857 |            0.594286 |            0.588571 |            0.588571 |            0.582857 |            0.6      |            0.586207 |            0.597701 |          0.591534 |       0.00723632 |                 6 |\n",
            "|         236.552 |        4.50738 |           3.84993 |         0.190949 |        50 | poly           | {'C': 50, 'kernel': 'poly'}    |            0.611429 |            0.611429 |            0.605714 |            0.634286 |            0.622857 |            0.617143 |            0.588571 |            0.622857 |            0.603448 |            0.626437 |          0.614417 |       0.0125341  |                 5 |\n",
            "|         215.841 |       34.3388  |           3.14075 |         1.01639  |       100 | poly           | {'C': 100, 'kernel': 'poly'}   |            0.617143 |            0.605714 |            0.617143 |            0.64     |            0.628571 |            0.628571 |            0.6      |            0.617143 |            0.603448 |            0.609195 |          0.616693 |       0.01207    |                 4 |\n",
            "+-----------------+----------------+-------------------+------------------+-----------+----------------+--------------------------------+---------------------+---------------------+---------------------+---------------------+---------------------+---------------------+---------------------+---------------------+---------------------+---------------------+-------------------+------------------+-------------------+\n",
            "Best Parameters found\n",
            "{'C': 50, 'kernel': 'linear'}\n",
            "[[844 143  35]\n",
            " [166 338  38]\n",
            " [ 66  76  42]]\n",
            "              precision    recall  f1-score   support\n",
            "\n",
            "    negativo       0.78      0.83      0.80      1022\n",
            "      neutro       0.61      0.62      0.62       542\n",
            "    positivo       0.37      0.23      0.28       184\n",
            "\n",
            "    accuracy                           0.70      1748\n",
            "   macro avg       0.59      0.56      0.57      1748\n",
            "weighted avg       0.69      0.70      0.69      1748\n",
            "\n",
            "----------------------------------------------\n"
          ]
        }
      ]
    },
    {
      "cell_type": "code",
      "source": [
        "#Fit do modelo usando KNN Pré Balanceamento dos dados\n",
        "print('----------------------------------------------') \n",
        "print(\"Instâncias 3 classes: \"+str(len(labels3)))\n",
        "print(\"Features 3 classes: \"+str(len(features3[0])))\n",
        "\n",
        "# Tempo total aprox: 25min\n",
        "predict3, cm3 = KNN(features3, labels3, 10)"
      ],
      "metadata": {
        "id": "fn5lPwHsh6Sl",
        "colab": {
          "base_uri": "https://localhost:8080/"
        },
        "outputId": "43c824ff-80ab-47c0-f8ef-9afc4099fb61"
      },
      "execution_count": null,
      "outputs": [
        {
          "output_type": "stream",
          "name": "stdout",
          "text": [
            "----------------------------------------------\n",
            "Instâncias 3 classes: 1748\n",
            "Features 3 classes: 4783\n",
            "KNN: \n"
          ]
        },
        {
          "output_type": "stream",
          "name": "stderr",
          "text": [
            "/usr/local/lib/python3.7/dist-packages/tabulate.py:634: UserWarning: Warning: converting a masked element to nan.\n",
            "  conv(string)\n",
            "/usr/local/lib/python3.7/dist-packages/tabulate.py:1037: UserWarning: Warning: converting a masked element to nan.\n",
            "  return format(float(val), floatfmt)\n"
          ]
        },
        {
          "output_type": "stream",
          "name": "stdout",
          "text": [
            "+-----------------+----------------+-------------------+------------------+---------------------+-----------------+-------------------+-------------------------------------------+---------------------+---------------------+---------------------+---------------------+---------------------+---------------------+---------------------+---------------------+---------------------+---------------------+-------------------+------------------+-------------------+\n",
            "|   mean_fit_time |   std_fit_time |   mean_score_time |   std_score_time |   param_n_neighbors | param_weights   | param_algorithm   | params                                    |   split0_test_score |   split1_test_score |   split2_test_score |   split3_test_score |   split4_test_score |   split5_test_score |   split6_test_score |   split7_test_score |   split8_test_score |   split9_test_score |   mean_test_score |   std_test_score |   rank_test_score |\n",
            "|-----------------+----------------+-------------------+------------------+---------------------+-----------------+-------------------+-------------------------------------------+---------------------+---------------------+---------------------+---------------------+---------------------+---------------------+---------------------+---------------------+---------------------+---------------------+-------------------+------------------+-------------------|\n",
            "|        1.00666  |     0.129525   |          0.320423 |       0.0254003  |                   3 | uniform         | --                | {'n_neighbors': 3, 'weights': 'uniform'}  |            0.554286 |            0.548571 |            0.537143 |            0.594286 |            0.537143 |            0.56     |            0.52     |            0.554286 |            0.545977 |            0.494253 |          0.544594 |        0.0248241 |                 4 |\n",
            "|        1.12582  |     0.246722   |          0.337047 |       0.0495729  |                   3 | distance        | --                | {'n_neighbors': 3, 'weights': 'distance'} |            0.577143 |            0.531429 |            0.52     |            0.594286 |            0.542857 |            0.565714 |            0.52     |            0.571429 |            0.54023  |            0.5      |          0.546309 |        0.0283887 |                 3 |\n",
            "|        1.10228  |     0.309377   |          0.321977 |       0.0405389  |                   5 | uniform         | --                | {'n_neighbors': 5, 'weights': 'uniform'}  |            0.6      |            0.56     |            0.525714 |            0.525714 |            0.497143 |            0.525714 |            0.6      |            0.468571 |            0.517241 |            0.517241 |          0.533734 |        0.039742  |                 6 |\n",
            "|        0.972038 |     0.0724045  |          0.293162 |       0.00642031 |                   5 | distance        | --                | {'n_neighbors': 5, 'weights': 'distance'} |            0.577143 |            0.571429 |            0.525714 |            0.554286 |            0.497143 |            0.525714 |            0.571429 |            0.474286 |            0.517241 |            0.511494 |          0.532588 |        0.0330206 |                 8 |\n",
            "|        0.949804 |     0.0136193  |          0.300696 |       0.00891661 |                   7 | uniform         | --                | {'n_neighbors': 7, 'weights': 'uniform'}  |            0.622857 |            0.56     |            0.537143 |            0.588571 |            0.514286 |            0.531429 |            0.582857 |            0.485714 |            0.477011 |            0.505747 |          0.540562 |        0.045043  |                 5 |\n",
            "|        0.966396 |     0.00769496 |          0.302697 |       0.00590037 |                   7 | distance        | --                | {'n_neighbors': 7, 'weights': 'distance'} |            0.617143 |            0.565714 |            0.531429 |            0.588571 |            0.514286 |            0.525714 |            0.56     |            0.457143 |            0.477011 |            0.494253 |          0.533126 |        0.047711  |                 7 |\n",
            "|        1.77362  |     0.126752   |          2.58759  |       0.259724   |                 nan | --              | ball_tree         | {'algorithm': 'ball_tree'}                |            0.605714 |            0.594286 |            0.611429 |            0.571429 |            0.565714 |            0.531429 |            0.554286 |            0.554286 |            0.586207 |            0.534483 |          0.570926 |        0.0266444 |                 2 |\n",
            "|        1.98335  |     0.237714   |          3.70132  |       0.540628   |                 nan | --              | kd_tree           | {'algorithm': 'kd_tree'}                  |            0.577143 |            0.582857 |            0.628571 |            0.537143 |            0.611429 |            0.577143 |            0.554286 |            0.571429 |            0.528736 |            0.563218 |          0.573195 |        0.0289646 |                 1 |\n",
            "+-----------------+----------------+-------------------+------------------+---------------------+-----------------+-------------------+-------------------------------------------+---------------------+---------------------+---------------------+---------------------+---------------------+---------------------+---------------------+---------------------+---------------------+---------------------+-------------------+------------------+-------------------+\n",
            "Best Parameters found\n",
            "{'algorithm': 'kd_tree'}\n",
            "[[745 277   0]\n",
            " [285 257   0]\n",
            " [106  78   0]]\n",
            "              precision    recall  f1-score   support\n",
            "\n",
            "    negativo       0.66      0.73      0.69      1022\n",
            "      neutro       0.42      0.47      0.45       542\n",
            "    positivo       0.00      0.00      0.00       184\n",
            "\n",
            "    accuracy                           0.57      1748\n",
            "   macro avg       0.36      0.40      0.38      1748\n",
            "weighted avg       0.51      0.57      0.54      1748\n",
            "\n",
            "----------------------------------------------\n"
          ]
        },
        {
          "output_type": "stream",
          "name": "stderr",
          "text": [
            "/usr/local/lib/python3.7/dist-packages/sklearn/metrics/_classification.py:1318: UndefinedMetricWarning: Precision and F-score are ill-defined and being set to 0.0 in labels with no predicted samples. Use `zero_division` parameter to control this behavior.\n",
            "  _warn_prf(average, modifier, msg_start, len(result))\n",
            "/usr/local/lib/python3.7/dist-packages/sklearn/metrics/_classification.py:1318: UndefinedMetricWarning: Precision and F-score are ill-defined and being set to 0.0 in labels with no predicted samples. Use `zero_division` parameter to control this behavior.\n",
            "  _warn_prf(average, modifier, msg_start, len(result))\n",
            "/usr/local/lib/python3.7/dist-packages/sklearn/metrics/_classification.py:1318: UndefinedMetricWarning: Precision and F-score are ill-defined and being set to 0.0 in labels with no predicted samples. Use `zero_division` parameter to control this behavior.\n",
            "  _warn_prf(average, modifier, msg_start, len(result))\n"
          ]
        }
      ]
    },
    {
      "cell_type": "code",
      "source": [
        "#Fit do modelo usando Decision Tree Pré Balanceamento dos dados\n",
        "print('----------------------------------------------') \n",
        "print(\"Instâncias 3 classes: \"+str(len(labels3)))\n",
        "print(\"Features 3 classes: \"+str(len(features3[0])))\n",
        "\n",
        "# Tempo total aprox: 25min\n",
        "predict3, cm3 = Tree(features3, labels3, 10)"
      ],
      "metadata": {
        "id": "O72bhSQ3h6Ne",
        "colab": {
          "base_uri": "https://localhost:8080/"
        },
        "outputId": "5ea060ee-42c9-4816-e86f-4eab8f9e1852"
      },
      "execution_count": null,
      "outputs": [
        {
          "output_type": "stream",
          "name": "stdout",
          "text": [
            "----------------------------------------------\n",
            "Instâncias 3 classes: 1748\n",
            "Features 3 classes: 4783\n",
            "Decision Tree Classifier: \n",
            "+-----------------+----------------+-------------------+------------------+-------------------+-------------------+--------------------------+---------------------------+-------------------------------------------------------------------------------------------+---------------------+---------------------+---------------------+---------------------+---------------------+---------------------+---------------------+---------------------+---------------------+---------------------+-------------------+------------------+-------------------+\n",
            "|   mean_fit_time |   std_fit_time |   mean_score_time |   std_score_time | param_criterion   |   param_max_depth |   param_min_samples_leaf |   param_min_samples_split | params                                                                                    |   split0_test_score |   split1_test_score |   split2_test_score |   split3_test_score |   split4_test_score |   split5_test_score |   split6_test_score |   split7_test_score |   split8_test_score |   split9_test_score |   mean_test_score |   std_test_score |   rank_test_score |\n",
            "|-----------------+----------------+-------------------+------------------+-------------------+-------------------+--------------------------+---------------------------+-------------------------------------------------------------------------------------------+---------------------+---------------------+---------------------+---------------------+---------------------+---------------------+---------------------+---------------------+---------------------+---------------------+-------------------+------------------+-------------------|\n",
            "|         1.04473 |      0.0835585 |         0.0854467 |       0.00434708 | gini              |                 3 |                        5 |                         5 | {'criterion': 'gini', 'max_depth': 3, 'min_samples_leaf': 5, 'min_samples_split': 5}      |            0.582857 |            0.582857 |            0.582857 |            0.582857 |            0.588571 |            0.588571 |            0.582857 |            0.582857 |            0.586207 |            0.586207 |          0.58467  |       0.00234276 |                 9 |\n",
            "|         1.06344 |      0.051435  |         0.0840067 |       0.00187289 | gini              |                 3 |                        5 |                        10 | {'criterion': 'gini', 'max_depth': 3, 'min_samples_leaf': 5, 'min_samples_split': 10}     |            0.582857 |            0.582857 |            0.582857 |            0.582857 |            0.588571 |            0.588571 |            0.582857 |            0.582857 |            0.586207 |            0.586207 |          0.58467  |       0.00234276 |                 9 |\n",
            "|         1.05129 |      0.0199757 |         0.0846986 |       0.00304653 | gini              |                 3 |                       10 |                         5 | {'criterion': 'gini', 'max_depth': 3, 'min_samples_leaf': 10, 'min_samples_split': 5}     |            0.582857 |            0.582857 |            0.582857 |            0.582857 |            0.588571 |            0.588571 |            0.582857 |            0.582857 |            0.586207 |            0.586207 |          0.58467  |       0.00234276 |                 9 |\n",
            "|         1.08568 |      0.0360081 |         0.0856545 |       0.00490048 | gini              |                 3 |                       10 |                        10 | {'criterion': 'gini', 'max_depth': 3, 'min_samples_leaf': 10, 'min_samples_split': 10}    |            0.582857 |            0.582857 |            0.582857 |            0.582857 |            0.588571 |            0.588571 |            0.582857 |            0.582857 |            0.586207 |            0.586207 |          0.58467  |       0.00234276 |                 9 |\n",
            "|         1.31594 |      0.0515914 |         0.0846431 |       0.0026609  | gini              |                 5 |                        5 |                         5 | {'criterion': 'gini', 'max_depth': 5, 'min_samples_leaf': 5, 'min_samples_split': 5}      |            0.611429 |            0.588571 |            0.605714 |            0.628571 |            0.605714 |            0.6      |            0.588571 |            0.622857 |            0.597701 |            0.626437 |          0.607557 |       0.0138891  |                 1 |\n",
            "|         1.37019 |      0.313717  |         0.0920926 |       0.0249774  | gini              |                 5 |                        5 |                        10 | {'criterion': 'gini', 'max_depth': 5, 'min_samples_leaf': 5, 'min_samples_split': 10}     |            0.611429 |            0.588571 |            0.605714 |            0.628571 |            0.605714 |            0.6      |            0.588571 |            0.622857 |            0.597701 |            0.626437 |          0.607557 |       0.0138891  |                 1 |\n",
            "|         1.25709 |      0.0255937 |         0.084843  |       0.00297301 | gini              |                 5 |                       10 |                         5 | {'criterion': 'gini', 'max_depth': 5, 'min_samples_leaf': 10, 'min_samples_split': 5}     |            0.611429 |            0.588571 |            0.605714 |            0.628571 |            0.605714 |            0.6      |            0.588571 |            0.622857 |            0.597701 |            0.626437 |          0.607557 |       0.0138891  |                 1 |\n",
            "|         1.35847 |      0.186668  |         0.0850729 |       0.0038009  | gini              |                 5 |                       10 |                        10 | {'criterion': 'gini', 'max_depth': 5, 'min_samples_leaf': 10, 'min_samples_split': 10}    |            0.611429 |            0.588571 |            0.605714 |            0.628571 |            0.605714 |            0.6      |            0.588571 |            0.622857 |            0.597701 |            0.626437 |          0.607557 |       0.0138891  |                 1 |\n",
            "|         1.22567 |      0.248412  |         0.0941708 |       0.0239287  | entropy           |                 3 |                        5 |                         5 | {'criterion': 'entropy', 'max_depth': 3, 'min_samples_leaf': 5, 'min_samples_split': 5}   |            0.582857 |            0.582857 |            0.582857 |            0.582857 |            0.588571 |            0.588571 |            0.582857 |            0.582857 |            0.586207 |            0.586207 |          0.58467  |       0.00234276 |                 9 |\n",
            "|         1.12703 |      0.0309685 |         0.0844946 |       0.001941   | entropy           |                 3 |                        5 |                        10 | {'criterion': 'entropy', 'max_depth': 3, 'min_samples_leaf': 5, 'min_samples_split': 10}  |            0.582857 |            0.582857 |            0.582857 |            0.582857 |            0.588571 |            0.588571 |            0.582857 |            0.582857 |            0.586207 |            0.586207 |          0.58467  |       0.00234276 |                 9 |\n",
            "|         1.12931 |      0.037349  |         0.0838278 |       0.0015299  | entropy           |                 3 |                       10 |                         5 | {'criterion': 'entropy', 'max_depth': 3, 'min_samples_leaf': 10, 'min_samples_split': 5}  |            0.582857 |            0.582857 |            0.582857 |            0.582857 |            0.588571 |            0.588571 |            0.582857 |            0.582857 |            0.586207 |            0.586207 |          0.58467  |       0.00234276 |                 9 |\n",
            "|         1.13912 |      0.0168182 |         0.0835493 |       0.00097576 | entropy           |                 3 |                       10 |                        10 | {'criterion': 'entropy', 'max_depth': 3, 'min_samples_leaf': 10, 'min_samples_split': 10} |            0.582857 |            0.582857 |            0.582857 |            0.582857 |            0.588571 |            0.588571 |            0.582857 |            0.582857 |            0.586207 |            0.586207 |          0.58467  |       0.00234276 |                 9 |\n",
            "|         1.36328 |      0.0487276 |         0.0840292 |       0.00204117 | entropy           |                 5 |                        5 |                         5 | {'criterion': 'entropy', 'max_depth': 5, 'min_samples_leaf': 5, 'min_samples_split': 5}   |            0.611429 |            0.588571 |            0.605714 |            0.582857 |            0.605714 |            0.6      |            0.577143 |            0.582857 |            0.597701 |            0.586207 |          0.593819 |       0.0111815  |                 5 |\n",
            "|         1.40818 |      0.26302   |         0.0857026 |       0.00412642 | entropy           |                 5 |                        5 |                        10 | {'criterion': 'entropy', 'max_depth': 5, 'min_samples_leaf': 5, 'min_samples_split': 10}  |            0.611429 |            0.588571 |            0.605714 |            0.582857 |            0.605714 |            0.6      |            0.577143 |            0.582857 |            0.597701 |            0.586207 |          0.593819 |       0.0111815  |                 5 |\n",
            "|         1.34796 |      0.0683469 |         0.0850883 |       0.00198126 | entropy           |                 5 |                       10 |                         5 | {'criterion': 'entropy', 'max_depth': 5, 'min_samples_leaf': 10, 'min_samples_split': 5}  |            0.611429 |            0.588571 |            0.605714 |            0.582857 |            0.605714 |            0.6      |            0.577143 |            0.582857 |            0.597701 |            0.586207 |          0.593819 |       0.0111815  |                 5 |\n",
            "|         1.23113 |      0.154465  |         0.0811189 |       0.013464   | entropy           |                 5 |                       10 |                        10 | {'criterion': 'entropy', 'max_depth': 5, 'min_samples_leaf': 10, 'min_samples_split': 10} |            0.611429 |            0.588571 |            0.605714 |            0.582857 |            0.605714 |            0.6      |            0.577143 |            0.582857 |            0.597701 |            0.586207 |          0.593819 |       0.0111815  |                 5 |\n",
            "+-----------------+----------------+-------------------+------------------+-------------------+-------------------+--------------------------+---------------------------+-------------------------------------------------------------------------------------------+---------------------+---------------------+---------------------+---------------------+---------------------+---------------------+---------------------+---------------------+---------------------+---------------------+-------------------+------------------+-------------------+\n",
            "Best Parameters found\n",
            "{'criterion': 'gini', 'max_depth': 5, 'min_samples_leaf': 5, 'min_samples_split': 5}\n",
            "[[1009   13    0]\n",
            " [ 489   53    0]\n",
            " [ 180    4    0]]\n",
            "              precision    recall  f1-score   support\n",
            "\n",
            "    negativo       0.60      0.99      0.75      1022\n",
            "      neutro       0.76      0.10      0.17       542\n",
            "    positivo       0.00      0.00      0.00       184\n",
            "\n",
            "    accuracy                           0.61      1748\n",
            "   macro avg       0.45      0.36      0.31      1748\n",
            "weighted avg       0.59      0.61      0.49      1748\n",
            "\n",
            "----------------------------------------------\n"
          ]
        },
        {
          "output_type": "stream",
          "name": "stderr",
          "text": [
            "/usr/local/lib/python3.7/dist-packages/sklearn/metrics/_classification.py:1318: UndefinedMetricWarning: Precision and F-score are ill-defined and being set to 0.0 in labels with no predicted samples. Use `zero_division` parameter to control this behavior.\n",
            "  _warn_prf(average, modifier, msg_start, len(result))\n",
            "/usr/local/lib/python3.7/dist-packages/sklearn/metrics/_classification.py:1318: UndefinedMetricWarning: Precision and F-score are ill-defined and being set to 0.0 in labels with no predicted samples. Use `zero_division` parameter to control this behavior.\n",
            "  _warn_prf(average, modifier, msg_start, len(result))\n",
            "/usr/local/lib/python3.7/dist-packages/sklearn/metrics/_classification.py:1318: UndefinedMetricWarning: Precision and F-score are ill-defined and being set to 0.0 in labels with no predicted samples. Use `zero_division` parameter to control this behavior.\n",
            "  _warn_prf(average, modifier, msg_start, len(result))\n"
          ]
        }
      ]
    },
    {
      "cell_type": "code",
      "source": [
        "#Estratégia de balanceamento dos dados usanto SMOTE\n",
        "from imblearn.over_sampling import RandomOverSampler, SMOTE\n",
        "smote = SMOTE(random_state = 32)\n",
        "features3_over, labels3_over = smote.fit_resample(features3, labels3)\n",
        "print(pd.Series(labels3_over).value_counts())\n",
        "sns.countplot(labels3_over);"
      ],
      "metadata": {
        "colab": {
          "base_uri": "https://localhost:8080/",
          "height": 334
        },
        "id": "Y0qrQmHydsVX",
        "outputId": "224d33b0-5d8b-41c9-9f24-3f10912139da"
      },
      "execution_count": null,
      "outputs": [
        {
          "output_type": "stream",
          "name": "stdout",
          "text": [
            "positivo    1022\n",
            "negativo    1022\n",
            "neutro      1022\n",
            "dtype: int64\n"
          ]
        },
        {
          "output_type": "display_data",
          "data": {
            "text/plain": [
              "<Figure size 432x288 with 1 Axes>"
            ],
            "image/png": "[encoded data removed]"
          },
          "metadata": {
            "needs_background": "light"
          }
        }
      ]
    },
    {
      "cell_type": "code",
      "source": [
        "#Aplicação de balanceamento dos dados usando método RandomOverSampler\n",
        "\n",
        "over = RandomOverSampler()\n",
        "features3_over, labels3_over = over.fit_resample(features3, labels3)\n",
        "\n",
        "#Validação da nova distribuição dos dados balanceados.\n",
        "print(pd.Series(labels3_over).value_counts())\n",
        "sns.countplot(labels3_over);"
      ],
      "metadata": {
        "colab": {
          "base_uri": "https://localhost:8080/",
          "height": 334
        },
        "id": "sAbX3dfbvy0V",
        "outputId": "025dfe99-667e-4656-e639-f8e7e5938e2d"
      },
      "execution_count": null,
      "outputs": [
        {
          "output_type": "stream",
          "name": "stdout",
          "text": [
            "positivo    1022\n",
            "negativo    1022\n",
            "neutro      1022\n",
            "dtype: int64\n"
          ]
        },
        {
          "output_type": "display_data",
          "data": {
            "text/plain": [
              "<Figure size 432x288 with 1 Axes>"
            ],
            "image/png": "[encoded data removed]"
          },
          "metadata": {
            "needs_background": "light"
          }
        }
      ]
    },
    {
      "cell_type": "code",
      "source": [
        "#Fit de modelo usando SVM com os dados balanceados.\n",
        "print('----------------------------------------------') \n",
        "print(\"Instâncias 3 classes: \"+str(len(labels3_over)))\n",
        "print(\"Features 3 classes: \"+str(len(features3_over[0])))\n",
        "\n",
        "# Tempo total aprox: 1h15Min\n",
        "predict3, cm3 = SVMwithout_GS(features3_over, labels3_over, 10)"
      ],
      "metadata": {
        "colab": {
          "base_uri": "https://localhost:8080/"
        },
        "id": "j_qDzxOleImL",
        "outputId": "3a0c090c-cc6e-407b-a8d0-1d052e378c66"
      },
      "execution_count": null,
      "outputs": [
        {
          "output_type": "stream",
          "name": "stdout",
          "text": [
            "----------------------------------------------\n",
            "Instâncias 3 classes: 3066\n",
            "Features 3 classes: 4783\n",
            "SVM (Linear): \n",
            "[[782 122 118]\n",
            " [163 388 471]\n",
            " [ 65  49 908]]\n",
            "              precision    recall  f1-score   support\n",
            "\n",
            "    negativo       0.77      0.77      0.77      1022\n",
            "      neutro       0.69      0.38      0.49      1022\n",
            "    positivo       0.61      0.89      0.72      1022\n",
            "\n",
            "    accuracy                           0.68      3066\n",
            "   macro avg       0.69      0.68      0.66      3066\n",
            "weighted avg       0.69      0.68      0.66      3066\n",
            "\n",
            "----------------------------------------------\n"
          ]
        }
      ]
    },
    {
      "cell_type": "code",
      "source": [
        "#Fit de modelo usando SVM com os dados balanceados.\n",
        "print('----------------------------------------------') \n",
        "print(\"Instâncias 3 classes: \"+str(len(labels3_over)))\n",
        "print(\"Features 3 classes: \"+str(len(features3_over[0])))\n",
        "\n",
        "# Tempo total aprox: 1h15Min\n",
        "predict3, cm3 = SVMwithout_GS(features3_over, labels3_over, 10)"
      ],
      "metadata": {
        "colab": {
          "base_uri": "https://localhost:8080/"
        },
        "id": "uHX8Dixavyxm",
        "outputId": "30f1cf23-600e-4f32-980b-e49e7ac3a2a4"
      },
      "execution_count": null,
      "outputs": [
        {
          "output_type": "stream",
          "name": "stdout",
          "text": [
            "----------------------------------------------\n",
            "Instâncias 3 classes: 3066\n",
            "Features 3 classes: 4783\n",
            "SVM (Linear): \n",
            "[[ 821  153   48]\n",
            " [  65  932   25]\n",
            " [   0    1 1021]]\n",
            "              precision    recall  f1-score   support\n",
            "\n",
            "    negativo       0.93      0.80      0.86      1022\n",
            "      neutro       0.86      0.91      0.88      1022\n",
            "    positivo       0.93      1.00      0.97      1022\n",
            "\n",
            "    accuracy                           0.90      3066\n",
            "   macro avg       0.91      0.90      0.90      3066\n",
            "weighted avg       0.91      0.90      0.90      3066\n",
            "\n",
            "----------------------------------------------\n"
          ]
        }
      ]
    },
    {
      "cell_type": "code",
      "source": [
        "#Fit do modelo usando KNN com os dados balanceados.\n",
        "print('----------------------------------------------') \n",
        "print(\"Instâncias 3 classes: \"+str(len(labels3_over)))\n",
        "print(\"Features 3 classes: \"+str(len(features3_over[0])))\n",
        "\n",
        "# Tempo total aprox: 40min\n",
        "predict3, cm3 = KNN(features3_over, labels3_over, 10)"
      ],
      "metadata": {
        "id": "x7TBQlVKvyu7"
      },
      "execution_count": null,
      "outputs": []
    },
    {
      "cell_type": "code",
      "source": [
        "#Fit do modelo usando Decision Tree com os dados balanceados.\n",
        "print('----------------------------------------------') \n",
        "print(\"Instâncias 3 classes: \"+str(len(labels3_over)))\n",
        "print(\"Features 3 classes: \"+str(len(features3_over[0])))\n",
        "\n",
        "# Tempo total aprox: 1min\n",
        "predict3, cm3 = Tree_without_GS(features3_over, labels3_over, 10)"
      ],
      "metadata": {
        "colab": {
          "base_uri": "https://localhost:8080/"
        },
        "id": "K3IDM_OIvys0",
        "outputId": "fa62a708-f414-4aed-b214-80f01fe922fc"
      },
      "execution_count": null,
      "outputs": [
        {
          "output_type": "stream",
          "name": "stdout",
          "text": [
            "----------------------------------------------\n",
            "Instâncias 3 classes: 3066\n",
            "Features 3 classes: 4783\n",
            "Decision Tree Classifier: \n",
            "[[305  89 628]\n",
            " [ 15 195 812]\n",
            " [  7 102 913]]\n",
            "              precision    recall  f1-score   support\n",
            "\n",
            "    negativo       0.93      0.30      0.45      1022\n",
            "      neutro       0.51      0.19      0.28      1022\n",
            "    positivo       0.39      0.89      0.54      1022\n",
            "\n",
            "    accuracy                           0.46      3066\n",
            "   macro avg       0.61      0.46      0.42      3066\n",
            "weighted avg       0.61      0.46      0.42      3066\n",
            "\n",
            "----------------------------------------------\n"
          ]
        }
      ]
    },
    {
      "cell_type": "code",
      "source": [
        ""
      ],
      "metadata": {
        "id": "1CWa-SnkmCze"
      },
      "execution_count": null,
      "outputs": []
    }
  ]
}